{
 "cells": [
  {
   "cell_type": "code",
   "execution_count": null,
   "metadata": {},
   "outputs": [],
   "source": [
    "pip install retina-face"
   ]
  },
  {
   "cell_type": "code",
   "execution_count": null,
   "metadata": {},
   "outputs": [],
   "source": [
    "!pip install gradio"
   ]
  },
  {
   "cell_type": "code",
   "execution_count": null,
   "metadata": {},
   "outputs": [],
   "source": [
    "from retinaface import RetinaFace\n",
    "import gradio as gr\n",
    "def pred(img):\n",
    "  b = img\n",
    "  obj  =  RetinaFace.detect_faces(img)\n",
    "  no = 0\n",
    "  if type(obj) == dict:\n",
    "    a =list(obj.keys())\n",
    "    no = len(a)\n",
    "    for i in range(len(a)):\n",
    "      identity = obj[a[i]]\n",
    "      facial_area = identity[\"facial_area\"]\n",
    "      landmarks = identity[\"landmarks\"]\n",
    "      cv2.rectangle(img, (facial_area[2], facial_area[3])\n",
    "        , (facial_area[0], facial_area[1]), (0,128,0), 3)\n",
    "  a = \"no of students presented \"+str(no)\n",
    "  return img,a"
   ]
  },
  {
   "cell_type": "code",
   "execution_count": null,
   "metadata": {},
   "outputs": [],
   "source": [
    "gr.Interface(fn=pred, \n",
    "             inputs=gr.Image(),\n",
    "             outputs=[gr.Image(),\"text\"],\n",
    "             title=\"Smart Attendance Management System Using Face Recognition\",\n",
    "             description= \"By uploading the Image, we get the no of students attendend in a class .\").launch(share = True)\n"
   ]
  }
 ],
 "metadata": {
  "language_info": {
   "name": "python"
  },
  "orig_nbformat": 4
 },
 "nbformat": 4,
 "nbformat_minor": 2
}
